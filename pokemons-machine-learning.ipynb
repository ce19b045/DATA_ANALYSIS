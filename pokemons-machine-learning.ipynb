{
 "cells": [
  {
   "cell_type": "code",
   "execution_count": 2,
   "metadata": {},
   "outputs": [
    {
     "name": "stdout",
     "output_type": "stream",
     "text": [
      "Requirement already satisfied: pandas in c:\\users\\venki\\anaconda3\\lib\\site-packages (1.4.2)\n",
      "Requirement already satisfied: numpy>=1.18.5 in c:\\users\\venki\\anaconda3\\lib\\site-packages (from pandas) (1.21.5)\n",
      "Requirement already satisfied: python-dateutil>=2.8.1 in c:\\users\\venki\\anaconda3\\lib\\site-packages (from pandas) (2.8.2)\n",
      "Requirement already satisfied: pytz>=2020.1 in c:\\users\\venki\\anaconda3\\lib\\site-packages (from pandas) (2021.3)\n",
      "Requirement already satisfied: six>=1.5 in c:\\users\\venki\\anaconda3\\lib\\site-packages (from python-dateutil>=2.8.1->pandas) (1.16.0)\n"
     ]
    }
   ],
   "source": [
    "!pip install pandas"
   ]
  },
  {
   "cell_type": "code",
   "execution_count": 7,
   "metadata": {},
   "outputs": [
    {
     "name": "stdout",
     "output_type": "stream",
     "text": [
      "Collecting hyperopt\n",
      "  Downloading hyperopt-0.2.7-py2.py3-none-any.whl (1.6 MB)\n",
      "Requirement already satisfied: cloudpickle in c:\\users\\venki\\anaconda3\\lib\\site-packages (from hyperopt) (2.0.0)\n",
      "Collecting py4j\n",
      "  Downloading py4j-0.10.9.7-py2.py3-none-any.whl (200 kB)\n",
      "Requirement already satisfied: future in c:\\users\\venki\\anaconda3\\lib\\site-packages (from hyperopt) (0.18.2)\n",
      "Requirement already satisfied: six in c:\\users\\venki\\anaconda3\\lib\\site-packages (from hyperopt) (1.16.0)\n",
      "Requirement already satisfied: networkx>=2.2 in c:\\users\\venki\\anaconda3\\lib\\site-packages (from hyperopt) (2.7.1)\n",
      "Requirement already satisfied: scipy in c:\\users\\venki\\anaconda3\\lib\\site-packages (from hyperopt) (1.7.3)\n",
      "Requirement already satisfied: tqdm in c:\\users\\venki\\anaconda3\\lib\\site-packages (from hyperopt) (4.64.0)\n",
      "Requirement already satisfied: numpy in c:\\users\\venki\\anaconda3\\lib\\site-packages (from hyperopt) (1.21.5)\n",
      "Requirement already satisfied: colorama in c:\\users\\venki\\anaconda3\\lib\\site-packages (from tqdm->hyperopt) (0.4.4)\n",
      "Installing collected packages: py4j, hyperopt\n",
      "Successfully installed hyperopt-0.2.7 py4j-0.10.9.7\n"
     ]
    }
   ],
   "source": [
    "!pip install hyperopt"
   ]
  },
  {
   "cell_type": "code",
   "execution_count": 8,
   "metadata": {
    "_cell_guid": "b1076dfc-b9ad-4769-8c92-a6c4dae69d19",
    "_uuid": "8f2839f25d086af736a60e9eeb907d3b93b6e0e5"
   },
   "outputs": [],
   "source": [
    "# There are a lot of warnings about CV not having enough data for each fold.\n",
    "# TODO: Find a better way to deal with the warnings\n",
    "import warnings\n",
    "warnings.filterwarnings(\"ignore\")\n",
    "\n",
    "# Same old imports\n",
    "import numpy as np\n",
    "import pandas as pd\n",
    "import os\n",
    "import seaborn as sns\n",
    "from sklearn.model_selection import train_test_split, cross_val_score\n",
    "from sklearn.metrics import f1_score, confusion_matrix\n",
    "from sklearn.preprocessing import LabelEncoder\n",
    "import matplotlib.pylab as plt\n",
    "from hyperopt import hp, tpe, Trials\n",
    "from hyperopt.fmin import fmin\n",
    "from tqdm import tqdm\n",
    "import itertools\n",
    "\n",
    "# Models\n",
    "from sklearn.linear_model import LogisticRegression\n",
    "from xgboost import XGBClassifier\n",
    "from sklearn.ensemble import RandomForestClassifier\n",
    "from sklearn.neural_network import MLPClassifier\n",
    "# from tpot import TPOTClassifier\n",
    "\n"
   ]
  },
  {
   "cell_type": "markdown",
   "metadata": {
    "_uuid": "f1d8b2e0cc07670c4059be2d8542df14751209d8"
   },
   "source": [
    "# Load the data and quick exploration"
   ]
  },
  {
   "cell_type": "code",
   "execution_count": 9,
   "metadata": {
    "_cell_guid": "79c7e3d0-c299-4dcb-8224-4455121ee9b0",
    "_uuid": "d629ff2d2480ee46fbb7e2d37f6b5fab8052498a"
   },
   "outputs": [],
   "source": [
    "# Some constants\n",
    "DATA_PATH = \"Pokemon.csv\"\n",
    "TARGET_COL = \"Type 1\"\n",
    "ENCODED_TARGET_COL = \"encoded_type_1\"\n",
    "TO_DROP_COLS = [\"#\", \"Name\"]\n",
    "# The dataset is small\n",
    "TEST_RATIO = 0.1\n",
    "# For reproducibility\n",
    "SEED = 31415\n",
    "RUN_HP_OPTIMIZATION = False\n",
    "# Reduce this if needed! (resources are scarce here!)\n",
    "MAX_EVALS = 200\n",
    "HP_SPACE = {\n",
    "    # Trying to reduce class imbalance\n",
    "    'max_delta_step': 2, \n",
    "    # To avoid overfitting\n",
    "    'reg_alpha': hp.loguniform('reg_alpha', np.log(0.01), np.log(1)), \n",
    "    'reg_lambda': hp.loguniform('reg_lambda', np.log(0.01), np.log(1)), \n",
    "    'n_estimators': hp.quniform('n_estimators', 100, 1000, 1),\n",
    "    'max_depth': hp.quniform('max_depth', 2, 8, 1),\n",
    "    'learning_rate': hp.loguniform('learning_rate', np.log(0.01), np.log(1)),\n",
    "    'colsample_bytree': hp.uniform('colsample_bytree', 0.3, 1.0),\n",
    "    'gamma': hp.loguniform('gamma', np.log(0.01), np.log(1)),\n",
    "}\n",
    "# Optimal hp from previous run\n",
    "OPTIMAL_HP = {'colsample_bytree': 0.7316836664311229, 'gamma': 0.04744535212276833, \n",
    "              'learning_rate': 0.02478735341127185, 'max_depth': 5.0, 'n_estimators': 349.0, \n",
    "              'reg_alpha': 0.03216806358838591, 'reg_lambda': 0.019055394071559602}\n",
    "# Tpot conf values: increase these for more runs (and hopefully better results)\n",
    "TPOT_GENERATION = 20\n",
    "TPOT_POPULATION_SIZE = 100"
   ]
  },
  {
   "cell_type": "code",
   "execution_count": 10,
   "metadata": {
    "_uuid": "b1628b03b519a3925b33f5f6a6946637ae572789"
   },
   "outputs": [],
   "source": [
    "# Some useful functions \n",
    "\n",
    "\n",
    "# Inspired from here: http://scikit-learn.org/stable/auto_examples/model_selection/\n",
    "# plot_confusion_matrix.html#sphx-glr-auto-examples-model-selection-plot-confusion-matrix-py\n",
    "\n",
    "\n",
    "def plot_confusion_matrix(cm, classes,\n",
    "                          normalize=False,\n",
    "                          title='Confusion matrix',\n",
    "                          cmap=plt.cm.Blues):\n",
    "    \"\"\"\n",
    "    This function prints and plots the confusion matrix.\n",
    "    Normalization can be applied by setting `normalize=True`.\n",
    "    \"\"\"\n",
    "    \n",
    "    fig, ax = plt.subplots(1, 1, figsize=(10, 10))\n",
    "    if normalize:\n",
    "        cm = cm.astype('float') / cm.sum(axis=1)[:, np.newaxis]\n",
    "    im = ax.imshow(cm, interpolation='nearest', cmap=cmap)\n",
    "    ax.set_title(title)\n",
    "    fig.colorbar(im)\n",
    "    tick_marks = np.arange(len(classes))\n",
    "    ax.set_xticks(tick_marks)\n",
    "    ax.set_xticklabels(classes, rotation=45)\n",
    "    ax.set_yticks(tick_marks)\n",
    "    ax.set_yticklabels(classes)\n",
    "\n",
    "    fmt = '.2f' if normalize else 'd'\n",
    "    thresh = cm.max() / 2.\n",
    "    for i, j in itertools.product(range(cm.shape[0]), range(cm.shape[1])):\n",
    "        ax.text(j, i, format(cm[i, j], fmt),\n",
    "                 horizontalalignment=\"center\",\n",
    "                 color=\"white\" if cm[i, j] > thresh else \"black\")\n",
    "\n",
    "    fig.tight_layout()\n",
    "    ax.set_ylabel('True Type 1')\n",
    "    ax.set_xlabel('Predicted Type 1')\n",
    "    ax.grid(False)"
   ]
  },
  {
   "cell_type": "code",
   "execution_count": 11,
   "metadata": {
    "_uuid": "1c1c66bb1de213068b79b25f4914668a276d4de8",
    "scrolled": true
   },
   "outputs": [
    {
     "data": {
      "text/html": [
       "<div>\n",
       "<style scoped>\n",
       "    .dataframe tbody tr th:only-of-type {\n",
       "        vertical-align: middle;\n",
       "    }\n",
       "\n",
       "    .dataframe tbody tr th {\n",
       "        vertical-align: top;\n",
       "    }\n",
       "\n",
       "    .dataframe thead th {\n",
       "        text-align: right;\n",
       "    }\n",
       "</style>\n",
       "<table border=\"1\" class=\"dataframe\">\n",
       "  <thead>\n",
       "    <tr style=\"text-align: right;\">\n",
       "      <th></th>\n",
       "      <th>#</th>\n",
       "      <th>Name</th>\n",
       "      <th>Type 1</th>\n",
       "      <th>Type 2</th>\n",
       "      <th>Total</th>\n",
       "      <th>HP</th>\n",
       "      <th>Attack</th>\n",
       "      <th>Defense</th>\n",
       "      <th>Sp. Atk</th>\n",
       "      <th>Sp. Def</th>\n",
       "      <th>Speed</th>\n",
       "      <th>Generation</th>\n",
       "      <th>Legendary</th>\n",
       "    </tr>\n",
       "  </thead>\n",
       "  <tbody>\n",
       "    <tr>\n",
       "      <th>749</th>\n",
       "      <td>680</td>\n",
       "      <td>Doublade</td>\n",
       "      <td>Steel</td>\n",
       "      <td>Ghost</td>\n",
       "      <td>448</td>\n",
       "      <td>59</td>\n",
       "      <td>110</td>\n",
       "      <td>150</td>\n",
       "      <td>45</td>\n",
       "      <td>49</td>\n",
       "      <td>35</td>\n",
       "      <td>6</td>\n",
       "      <td>False</td>\n",
       "    </tr>\n",
       "    <tr>\n",
       "      <th>291</th>\n",
       "      <td>268</td>\n",
       "      <td>Cascoon</td>\n",
       "      <td>Bug</td>\n",
       "      <td>NaN</td>\n",
       "      <td>205</td>\n",
       "      <td>50</td>\n",
       "      <td>35</td>\n",
       "      <td>55</td>\n",
       "      <td>25</td>\n",
       "      <td>25</td>\n",
       "      <td>15</td>\n",
       "      <td>3</td>\n",
       "      <td>False</td>\n",
       "    </tr>\n",
       "    <tr>\n",
       "      <th>426</th>\n",
       "      <td>384</td>\n",
       "      <td>RayquazaMega Rayquaza</td>\n",
       "      <td>Dragon</td>\n",
       "      <td>Flying</td>\n",
       "      <td>780</td>\n",
       "      <td>105</td>\n",
       "      <td>180</td>\n",
       "      <td>100</td>\n",
       "      <td>180</td>\n",
       "      <td>100</td>\n",
       "      <td>115</td>\n",
       "      <td>3</td>\n",
       "      <td>True</td>\n",
       "    </tr>\n",
       "    <tr>\n",
       "      <th>730</th>\n",
       "      <td>662</td>\n",
       "      <td>Fletchinder</td>\n",
       "      <td>Fire</td>\n",
       "      <td>Flying</td>\n",
       "      <td>382</td>\n",
       "      <td>62</td>\n",
       "      <td>73</td>\n",
       "      <td>55</td>\n",
       "      <td>56</td>\n",
       "      <td>52</td>\n",
       "      <td>84</td>\n",
       "      <td>6</td>\n",
       "      <td>False</td>\n",
       "    </tr>\n",
       "    <tr>\n",
       "      <th>593</th>\n",
       "      <td>533</td>\n",
       "      <td>Gurdurr</td>\n",
       "      <td>Fighting</td>\n",
       "      <td>NaN</td>\n",
       "      <td>405</td>\n",
       "      <td>85</td>\n",
       "      <td>105</td>\n",
       "      <td>85</td>\n",
       "      <td>40</td>\n",
       "      <td>50</td>\n",
       "      <td>40</td>\n",
       "      <td>5</td>\n",
       "      <td>False</td>\n",
       "    </tr>\n",
       "  </tbody>\n",
       "</table>\n",
       "</div>"
      ],
      "text/plain": [
       "       #                   Name    Type 1  Type 2  Total   HP  Attack  \\\n",
       "749  680               Doublade     Steel   Ghost    448   59     110   \n",
       "291  268                Cascoon       Bug     NaN    205   50      35   \n",
       "426  384  RayquazaMega Rayquaza    Dragon  Flying    780  105     180   \n",
       "730  662            Fletchinder      Fire  Flying    382   62      73   \n",
       "593  533                Gurdurr  Fighting     NaN    405   85     105   \n",
       "\n",
       "     Defense  Sp. Atk  Sp. Def  Speed  Generation  Legendary  \n",
       "749      150       45       49     35           6      False  \n",
       "291       55       25       25     15           3      False  \n",
       "426      100      180      100    115           3       True  \n",
       "730       55       56       52     84           6      False  \n",
       "593       85       40       50     40           5      False  "
      ]
     },
     "execution_count": 11,
     "metadata": {},
     "output_type": "execute_result"
    }
   ],
   "source": [
    "pokemon_df = pd.read_csv(DATA_PATH)\n",
    "pokemon_df.sample(5)"
   ]
  },
  {
   "cell_type": "markdown",
   "metadata": {
    "_uuid": "87eda816cc2dd0956a1ac43e89398117269dbf7b"
   },
   "source": [
    "Notice that the `#` and `Name` columns aren't useful for predicting the major type so will be dropped (these are the `TO_DROP_COLS`).  "
   ]
  },
  {
   "cell_type": "code",
   "execution_count": null,
   "metadata": {
    "_uuid": "4fa9884dc018e0760254e3aa29b831eacd7566c6"
   },
   "outputs": [],
   "source": [
    "pokemon_df.dtypes"
   ]
  },
  {
   "cell_type": "markdown",
   "metadata": {
    "_uuid": "60bb4e5c09473a5f0c671429ae6e8f6c01979b0c"
   },
   "source": [
    "As mentionned in the beginning, I will predict the major type (this is the `Type 1` column). \n",
    "Let's explore the target to start. "
   ]
  },
  {
   "cell_type": "code",
   "execution_count": 12,
   "metadata": {
    "_uuid": "cc4d115016818579a1a616ae18761954db1f42a4"
   },
   "outputs": [
    {
     "data": {
      "text/plain": [
       "Text(0.5, 0, \"Pokemons' Type 1\")"
      ]
     },
     "execution_count": 12,
     "metadata": {},
     "output_type": "execute_result"
    },
    {
     "data": {
      "image/png": "[encoded data removed]",
      "text/plain": [
       "<Figure size 864x576 with 1 Axes>"
      ]
     },
     "metadata": {
      "needs_background": "light"
     },
     "output_type": "display_data"
    }
   ],
   "source": [
    "target_s = pokemon_df['Type 1']\n",
    "\"There are {} unique major types\".format(target_s.nunique())\n",
    "fig, ax = plt.subplots(1, 1, figsize=(12, 8))\n",
    "target_s.value_counts().plot(kind='bar', ax=ax)\n",
    "ax.set_ylabel('Number')\n",
    "ax.set_xlabel(\"Pokemons' Type 1\")"
   ]
  },
  {
   "cell_type": "code",
   "execution_count": 13,
   "metadata": {
    "_uuid": "545ef657fbbe678733f02e631fc942469197763a"
   },
   "outputs": [
    {
     "data": {
      "text/plain": [
       "Text(0.5, 0, \"Pokemons' Type 1\")"
      ]
     },
     "execution_count": 13,
     "metadata": {},
     "output_type": "execute_result"
    },
    {
     "data": {
      "image/png": "[encoded data removed]",
      "text/plain": [
       "<Figure size 864x576 with 1 Axes>"
      ]
     },
     "metadata": {
      "needs_background": "light"
     },
     "output_type": "display_data"
    }
   ],
   "source": [
    "fig, ax = plt.subplots(1, 1, figsize=(12, 8))\n",
    "target_s.value_counts(normalize=True).mul(100).plot(kind='bar', ax=ax)\n",
    "ax.set_ylabel('%')\n",
    "ax.set_xlabel(\"Pokemons' Type 1\")"
   ]
  },
  {
   "cell_type": "markdown",
   "metadata": {
    "_uuid": "bbbf94312eb05fd7d5b775183ea229c9a59ca229"
   },
   "source": [
    "Based on the target's historgrams: \n",
    "\n",
    "1. This is a **multi-class** (**18** major types) **classification** (categorical target) problem\n",
    "2. This is an **unblanaced** problem. Indeed, some types (fairy and flying) are much less common than the other ones."
   ]
  },
  {
   "cell_type": "markdown",
   "metadata": {
    "_uuid": "2efaaf0d6c0f17503b8d2226a450f555bbd197e5"
   },
   "source": [
    "Notice that some major types (check the EDA notebook) aren't present for all the generations: flying, dark, and steel types aren't available for the six generations. \n",
    "\n",
    "Thus some **features engineering** based on the `Generation` column might be useful. "
   ]
  },
  {
   "cell_type": "markdown",
   "metadata": {
    "_uuid": "bd8556dc84fc0799dc9234318c56e7353bdd97e4"
   },
   "source": [
    "Let's **dummify** (i.e. transform categorical columns into boolean ones) the target, the `Type 2` and `Generation` columns. \n",
    "\n",
    "For that I use pandas [`get_dummies`](https://pandas.pydata.org/pandas-docs/stable/generated/pandas.get_dummies.html) function. Also, since not every Pokemon has a `Type 2`, I have filled the missing values with the \"missing\" type before dummifying. Notice also that I have used a `LabelEncoder` for the target col (since the target contains strings). \n",
    "\n",
    "Finally, I drop the `TARGET_COL` and `TO_DROP_COLS` (i.e. `Name` and `#`) columns from the features. "
   ]
  },
  {
   "cell_type": "code",
   "execution_count": 14,
   "metadata": {
    "_uuid": "1e2213ddc99a2ceb6192051c450cdb33e9ac6ae4"
   },
   "outputs": [],
   "source": [
    "le = LabelEncoder()\n",
    "encoded_target_s = pd.Series(le.fit_transform(target_s), name=ENCODED_TARGET_COL)\n",
    "dummified_target_s = pd.get_dummies(target_s)\n",
    "dummified_features_df = (pokemon_df.drop(TO_DROP_COLS + [TARGET_COL], axis=1)\n",
    "                                   .assign(Generation=lambda df: df.Generation.astype(str))\n",
    "                                   .assign(**{\"Legendary\": lambda df: df[\"Legendary\"].astype(int), \n",
    "                                              \"Type 2\": lambda df: df[\"Type 2\"].fillna(\"missing\")})\n",
    "                                   .pipe(pd.get_dummies))\n",
    "features_and_targets_df = pd.concat([encoded_target_s, dummified_features_df], axis=1)"
   ]
  },
  {
   "cell_type": "code",
   "execution_count": 15,
   "metadata": {
    "_uuid": "17c58c3b8a23e06288ee45d20969c8a50daa05c9",
    "scrolled": true
   },
   "outputs": [
    {
     "data": {
      "text/plain": [
       "143    12\n",
       "97     17\n",
       "483    13\n",
       "667    14\n",
       "394    14\n",
       "Name: encoded_type_1, dtype: int32"
      ]
     },
     "execution_count": 15,
     "metadata": {},
     "output_type": "execute_result"
    }
   ],
   "source": [
    "encoded_target_s.sample(5)"
   ]
  },
  {
   "cell_type": "code",
   "execution_count": 16,
   "metadata": {
    "_uuid": "a83cbf8012c83be086f1d10faec98825078539be"
   },
   "outputs": [
    {
     "data": {
      "text/plain": [
       "array(['Water', 'Dark', 'Electric', 'Water', 'Fire'], dtype=object)"
      ]
     },
     "execution_count": 16,
     "metadata": {},
     "output_type": "execute_result"
    }
   ],
   "source": [
    "le.inverse_transform(encoded_target_s.sample(5))"
   ]
  },
  {
   "cell_type": "code",
   "execution_count": 17,
   "metadata": {
    "_uuid": "116924147ade1a17f59e7a9f515f514a57e468b1"
   },
   "outputs": [
    {
     "data": {
      "text/html": [
       "<div>\n",
       "<style scoped>\n",
       "    .dataframe tbody tr th:only-of-type {\n",
       "        vertical-align: middle;\n",
       "    }\n",
       "\n",
       "    .dataframe tbody tr th {\n",
       "        vertical-align: top;\n",
       "    }\n",
       "\n",
       "    .dataframe thead th {\n",
       "        text-align: right;\n",
       "    }\n",
       "</style>\n",
       "<table border=\"1\" class=\"dataframe\">\n",
       "  <thead>\n",
       "    <tr style=\"text-align: right;\">\n",
       "      <th></th>\n",
       "      <th>Bug</th>\n",
       "      <th>Dark</th>\n",
       "      <th>Dragon</th>\n",
       "      <th>Electric</th>\n",
       "      <th>Fairy</th>\n",
       "      <th>Fighting</th>\n",
       "      <th>Fire</th>\n",
       "      <th>Flying</th>\n",
       "      <th>Ghost</th>\n",
       "      <th>Grass</th>\n",
       "      <th>Ground</th>\n",
       "      <th>Ice</th>\n",
       "      <th>Normal</th>\n",
       "      <th>Poison</th>\n",
       "      <th>Psychic</th>\n",
       "      <th>Rock</th>\n",
       "      <th>Steel</th>\n",
       "      <th>Water</th>\n",
       "    </tr>\n",
       "  </thead>\n",
       "  <tbody>\n",
       "    <tr>\n",
       "      <th>67</th>\n",
       "      <td>0</td>\n",
       "      <td>0</td>\n",
       "      <td>0</td>\n",
       "      <td>0</td>\n",
       "      <td>0</td>\n",
       "      <td>0</td>\n",
       "      <td>0</td>\n",
       "      <td>0</td>\n",
       "      <td>0</td>\n",
       "      <td>0</td>\n",
       "      <td>0</td>\n",
       "      <td>0</td>\n",
       "      <td>0</td>\n",
       "      <td>0</td>\n",
       "      <td>0</td>\n",
       "      <td>0</td>\n",
       "      <td>0</td>\n",
       "      <td>1</td>\n",
       "    </tr>\n",
       "    <tr>\n",
       "      <th>751</th>\n",
       "      <td>0</td>\n",
       "      <td>0</td>\n",
       "      <td>0</td>\n",
       "      <td>0</td>\n",
       "      <td>0</td>\n",
       "      <td>0</td>\n",
       "      <td>0</td>\n",
       "      <td>0</td>\n",
       "      <td>0</td>\n",
       "      <td>0</td>\n",
       "      <td>0</td>\n",
       "      <td>0</td>\n",
       "      <td>0</td>\n",
       "      <td>0</td>\n",
       "      <td>0</td>\n",
       "      <td>0</td>\n",
       "      <td>1</td>\n",
       "      <td>0</td>\n",
       "    </tr>\n",
       "    <tr>\n",
       "      <th>690</th>\n",
       "      <td>0</td>\n",
       "      <td>1</td>\n",
       "      <td>0</td>\n",
       "      <td>0</td>\n",
       "      <td>0</td>\n",
       "      <td>0</td>\n",
       "      <td>0</td>\n",
       "      <td>0</td>\n",
       "      <td>0</td>\n",
       "      <td>0</td>\n",
       "      <td>0</td>\n",
       "      <td>0</td>\n",
       "      <td>0</td>\n",
       "      <td>0</td>\n",
       "      <td>0</td>\n",
       "      <td>0</td>\n",
       "      <td>0</td>\n",
       "      <td>0</td>\n",
       "    </tr>\n",
       "    <tr>\n",
       "      <th>235</th>\n",
       "      <td>0</td>\n",
       "      <td>0</td>\n",
       "      <td>0</td>\n",
       "      <td>0</td>\n",
       "      <td>0</td>\n",
       "      <td>0</td>\n",
       "      <td>0</td>\n",
       "      <td>0</td>\n",
       "      <td>0</td>\n",
       "      <td>0</td>\n",
       "      <td>0</td>\n",
       "      <td>0</td>\n",
       "      <td>1</td>\n",
       "      <td>0</td>\n",
       "      <td>0</td>\n",
       "      <td>0</td>\n",
       "      <td>0</td>\n",
       "      <td>0</td>\n",
       "    </tr>\n",
       "    <tr>\n",
       "      <th>59</th>\n",
       "      <td>0</td>\n",
       "      <td>0</td>\n",
       "      <td>0</td>\n",
       "      <td>0</td>\n",
       "      <td>0</td>\n",
       "      <td>0</td>\n",
       "      <td>0</td>\n",
       "      <td>0</td>\n",
       "      <td>0</td>\n",
       "      <td>0</td>\n",
       "      <td>0</td>\n",
       "      <td>0</td>\n",
       "      <td>0</td>\n",
       "      <td>0</td>\n",
       "      <td>0</td>\n",
       "      <td>0</td>\n",
       "      <td>0</td>\n",
       "      <td>1</td>\n",
       "    </tr>\n",
       "  </tbody>\n",
       "</table>\n",
       "</div>"
      ],
      "text/plain": [
       "     Bug  Dark  Dragon  Electric  Fairy  Fighting  Fire  Flying  Ghost  Grass  \\\n",
       "67     0     0       0         0      0         0     0       0      0      0   \n",
       "751    0     0       0         0      0         0     0       0      0      0   \n",
       "690    0     1       0         0      0         0     0       0      0      0   \n",
       "235    0     0       0         0      0         0     0       0      0      0   \n",
       "59     0     0       0         0      0         0     0       0      0      0   \n",
       "\n",
       "     Ground  Ice  Normal  Poison  Psychic  Rock  Steel  Water  \n",
       "67        0    0       0       0        0     0      0      1  \n",
       "751       0    0       0       0        0     0      1      0  \n",
       "690       0    0       0       0        0     0      0      0  \n",
       "235       0    0       1       0        0     0      0      0  \n",
       "59        0    0       0       0        0     0      0      1  "
      ]
     },
     "execution_count": 17,
     "metadata": {},
     "output_type": "execute_result"
    }
   ],
   "source": [
    "dummified_target_s.sample(5)"
   ]
  },
  {
   "cell_type": "code",
   "execution_count": 18,
   "metadata": {
    "_uuid": "a462231115c3aa3578733b28f69a5a20826e50de",
    "scrolled": false
   },
   "outputs": [
    {
     "data": {
      "text/html": [
       "<div>\n",
       "<style scoped>\n",
       "    .dataframe tbody tr th:only-of-type {\n",
       "        vertical-align: middle;\n",
       "    }\n",
       "\n",
       "    .dataframe tbody tr th {\n",
       "        vertical-align: top;\n",
       "    }\n",
       "\n",
       "    .dataframe thead th {\n",
       "        text-align: right;\n",
       "    }\n",
       "</style>\n",
       "<table border=\"1\" class=\"dataframe\">\n",
       "  <thead>\n",
       "    <tr style=\"text-align: right;\">\n",
       "      <th></th>\n",
       "      <th>Total</th>\n",
       "      <th>HP</th>\n",
       "      <th>Attack</th>\n",
       "      <th>Defense</th>\n",
       "      <th>Sp. Atk</th>\n",
       "      <th>Sp. Def</th>\n",
       "      <th>Speed</th>\n",
       "      <th>Legendary</th>\n",
       "      <th>Type 2_Bug</th>\n",
       "      <th>Type 2_Dark</th>\n",
       "      <th>...</th>\n",
       "      <th>Type 2_Rock</th>\n",
       "      <th>Type 2_Steel</th>\n",
       "      <th>Type 2_Water</th>\n",
       "      <th>Type 2_missing</th>\n",
       "      <th>Generation_1</th>\n",
       "      <th>Generation_2</th>\n",
       "      <th>Generation_3</th>\n",
       "      <th>Generation_4</th>\n",
       "      <th>Generation_5</th>\n",
       "      <th>Generation_6</th>\n",
       "    </tr>\n",
       "  </thead>\n",
       "  <tbody>\n",
       "    <tr>\n",
       "      <th>337</th>\n",
       "      <td>295</td>\n",
       "      <td>40</td>\n",
       "      <td>45</td>\n",
       "      <td>40</td>\n",
       "      <td>65</td>\n",
       "      <td>40</td>\n",
       "      <td>65</td>\n",
       "      <td>0</td>\n",
       "      <td>0</td>\n",
       "      <td>0</td>\n",
       "      <td>...</td>\n",
       "      <td>0</td>\n",
       "      <td>0</td>\n",
       "      <td>0</td>\n",
       "      <td>1</td>\n",
       "      <td>0</td>\n",
       "      <td>0</td>\n",
       "      <td>1</td>\n",
       "      <td>0</td>\n",
       "      <td>0</td>\n",
       "      <td>0</td>\n",
       "    </tr>\n",
       "    <tr>\n",
       "      <th>267</th>\n",
       "      <td>600</td>\n",
       "      <td>100</td>\n",
       "      <td>134</td>\n",
       "      <td>110</td>\n",
       "      <td>95</td>\n",
       "      <td>100</td>\n",
       "      <td>61</td>\n",
       "      <td>0</td>\n",
       "      <td>0</td>\n",
       "      <td>1</td>\n",
       "      <td>...</td>\n",
       "      <td>0</td>\n",
       "      <td>0</td>\n",
       "      <td>0</td>\n",
       "      <td>0</td>\n",
       "      <td>0</td>\n",
       "      <td>1</td>\n",
       "      <td>0</td>\n",
       "      <td>0</td>\n",
       "      <td>0</td>\n",
       "      <td>0</td>\n",
       "    </tr>\n",
       "    <tr>\n",
       "      <th>552</th>\n",
       "      <td>720</td>\n",
       "      <td>120</td>\n",
       "      <td>120</td>\n",
       "      <td>120</td>\n",
       "      <td>120</td>\n",
       "      <td>120</td>\n",
       "      <td>120</td>\n",
       "      <td>1</td>\n",
       "      <td>0</td>\n",
       "      <td>0</td>\n",
       "      <td>...</td>\n",
       "      <td>0</td>\n",
       "      <td>0</td>\n",
       "      <td>0</td>\n",
       "      <td>1</td>\n",
       "      <td>0</td>\n",
       "      <td>0</td>\n",
       "      <td>0</td>\n",
       "      <td>1</td>\n",
       "      <td>0</td>\n",
       "      <td>0</td>\n",
       "    </tr>\n",
       "    <tr>\n",
       "      <th>193</th>\n",
       "      <td>280</td>\n",
       "      <td>55</td>\n",
       "      <td>40</td>\n",
       "      <td>40</td>\n",
       "      <td>65</td>\n",
       "      <td>45</td>\n",
       "      <td>35</td>\n",
       "      <td>0</td>\n",
       "      <td>0</td>\n",
       "      <td>0</td>\n",
       "      <td>...</td>\n",
       "      <td>0</td>\n",
       "      <td>0</td>\n",
       "      <td>0</td>\n",
       "      <td>1</td>\n",
       "      <td>0</td>\n",
       "      <td>1</td>\n",
       "      <td>0</td>\n",
       "      <td>0</td>\n",
       "      <td>0</td>\n",
       "      <td>0</td>\n",
       "    </tr>\n",
       "    <tr>\n",
       "      <th>643</th>\n",
       "      <td>305</td>\n",
       "      <td>36</td>\n",
       "      <td>50</td>\n",
       "      <td>50</td>\n",
       "      <td>65</td>\n",
       "      <td>60</td>\n",
       "      <td>44</td>\n",
       "      <td>0</td>\n",
       "      <td>0</td>\n",
       "      <td>0</td>\n",
       "      <td>...</td>\n",
       "      <td>0</td>\n",
       "      <td>0</td>\n",
       "      <td>0</td>\n",
       "      <td>1</td>\n",
       "      <td>0</td>\n",
       "      <td>0</td>\n",
       "      <td>0</td>\n",
       "      <td>0</td>\n",
       "      <td>1</td>\n",
       "      <td>0</td>\n",
       "    </tr>\n",
       "  </tbody>\n",
       "</table>\n",
       "<p>5 rows × 33 columns</p>\n",
       "</div>"
      ],
      "text/plain": [
       "     Total   HP  Attack  Defense  Sp. Atk  Sp. Def  Speed  Legendary  \\\n",
       "337    295   40      45       40       65       40     65          0   \n",
       "267    600  100     134      110       95      100     61          0   \n",
       "552    720  120     120      120      120      120    120          1   \n",
       "193    280   55      40       40       65       45     35          0   \n",
       "643    305   36      50       50       65       60     44          0   \n",
       "\n",
       "     Type 2_Bug  Type 2_Dark  ...  Type 2_Rock  Type 2_Steel  Type 2_Water  \\\n",
       "337           0            0  ...            0             0             0   \n",
       "267           0            1  ...            0             0             0   \n",
       "552           0            0  ...            0             0             0   \n",
       "193           0            0  ...            0             0             0   \n",
       "643           0            0  ...            0             0             0   \n",
       "\n",
       "     Type 2_missing  Generation_1  Generation_2  Generation_3  Generation_4  \\\n",
       "337               1             0             0             1             0   \n",
       "267               0             0             1             0             0   \n",
       "552               1             0             0             0             1   \n",
       "193               1             0             1             0             0   \n",
       "643               1             0             0             0             0   \n",
       "\n",
       "     Generation_5  Generation_6  \n",
       "337             0             0  \n",
       "267             0             0  \n",
       "552             0             0  \n",
       "193             0             0  \n",
       "643             1             0  \n",
       "\n",
       "[5 rows x 33 columns]"
      ]
     },
     "execution_count": 18,
     "metadata": {},
     "output_type": "execute_result"
    }
   ],
   "source": [
    "dummified_features_df.sample(5)"
   ]
  },
  {
   "cell_type": "markdown",
   "metadata": {
    "_uuid": "5037a19312ec2e0e66f44b4fb861dfdeba441653"
   },
   "source": [
    "To end this preparation phase, let's see if there are any **correlations**"
   ]
  },
  {
   "cell_type": "code",
   "execution_count": 19,
   "metadata": {
    "_uuid": "507a8265cd5501d634c4c43773283ad04f8acef2",
    "scrolled": false
   },
   "outputs": [
    {
     "data": {
      "text/plain": [
       "<AxesSubplot:>"
      ]
     },
     "execution_count": 19,
     "metadata": {},
     "output_type": "execute_result"
    },
    {
     "data": {
      "image/png": "[encoded data removed]",
      "text/plain": [
       "<Figure size 1440x864 with 2 Axes>"
      ]
     },
     "metadata": {
      "needs_background": "light"
     },
     "output_type": "display_data"
    }
   ],
   "source": [
    "# Inspired from this: https://seaborn.pydata.org/examples/many_pairwise_correlations.html\n",
    "\n",
    "corr_df = pd.concat([dummified_features_df, dummified_target_s], axis=1).corr()\n",
    "\n",
    "\n",
    "mask = np.zeros_like(corr_df, dtype=np.bool)\n",
    "mask[np.triu_indices_from(mask)] = True\n",
    "\n",
    "# Set up the matplotlib figure\n",
    "f, ax = plt.subplots(figsize=(20, 12))\n",
    "\n",
    "# Generate a custom diverging colormap\n",
    "cmap = sns.diverging_palette(220, 10, as_cmap=True)\n",
    "\n",
    "# Draw the heatmap with the mask and correct aspect ratio\n",
    "sns.heatmap(corr_df, mask=mask, cmap=cmap, vmax=.3, center=0,\n",
    "            square=True, linewidths=.5, cbar_kws={\"shrink\": .5})\n",
    "\n"
   ]
  },
  {
   "cell_type": "markdown",
   "metadata": {
    "_uuid": "ac2d171b267136e532f76487782a925e5acebbb3"
   },
   "source": [
    "Some correlations: \n",
    "\n",
    "* **Steel** major types tend to be positivelt correlated with **Defense** and **Psychic** with ** Special Attack**. \n",
    "* **Ghost** major types tend to be positvely correlated with a Type 2 of **Grass** and **Grass** with **Poison**. \n",
    "* **Fairy** major types tend to be positvely correlated with the **Generation** 6. \n",
    "* **Dragon** major types tend to be positvely correlated with **Attack** and **Total**. \n",
    "\n",
    "These observations aren't surprising to any true Pokemon connoisseur but are, nonethless, reassuring to find using the data. "
   ]
  },
  {
   "cell_type": "markdown",
   "metadata": {
    "_uuid": "2971d7cfa37c5ac3b84221af40d2630b0c14bec0"
   },
   "source": [
    "## Train and test split"
   ]
  },
  {
   "cell_type": "markdown",
   "metadata": {
    "_uuid": "eca912f3c86b42eac9d64e7010c584019747ea1e"
   },
   "source": [
    "I will split the features and targets into train and test datasets. \n",
    "\n",
    "The test dataset will only be used at the end to evaluate the various trained models (you should do this as well whenever you train an ML model). Next, I will use cross validation to train and evaluate the model using the train dataset. "
   ]
  },
  {
   "cell_type": "code",
   "execution_count": 20,
   "metadata": {
    "_uuid": "9fa5ca88c8c5bfa909e52bdd04d30527573f26f9"
   },
   "outputs": [],
   "source": [
    "train_df, test_df = train_test_split(features_and_targets_df, \n",
    "                                     stratify=encoded_target_s, \n",
    "                                     test_size=TEST_RATIO, random_state=SEED)"
   ]
  },
  {
   "cell_type": "code",
   "execution_count": 21,
   "metadata": {
    "_uuid": "6e888fbb519b196cbd7b254174d96831d7636359"
   },
   "outputs": [
    {
     "data": {
      "text/html": [
       "<div>\n",
       "<style scoped>\n",
       "    .dataframe tbody tr th:only-of-type {\n",
       "        vertical-align: middle;\n",
       "    }\n",
       "\n",
       "    .dataframe tbody tr th {\n",
       "        vertical-align: top;\n",
       "    }\n",
       "\n",
       "    .dataframe thead th {\n",
       "        text-align: right;\n",
       "    }\n",
       "</style>\n",
       "<table border=\"1\" class=\"dataframe\">\n",
       "  <thead>\n",
       "    <tr style=\"text-align: right;\">\n",
       "      <th></th>\n",
       "      <th>526</th>\n",
       "    </tr>\n",
       "  </thead>\n",
       "  <tbody>\n",
       "    <tr>\n",
       "      <th>encoded_type_1</th>\n",
       "      <td>14</td>\n",
       "    </tr>\n",
       "    <tr>\n",
       "      <th>Total</th>\n",
       "      <td>518</td>\n",
       "    </tr>\n",
       "    <tr>\n",
       "      <th>HP</th>\n",
       "      <td>68</td>\n",
       "    </tr>\n",
       "    <tr>\n",
       "      <th>Attack</th>\n",
       "      <td>125</td>\n",
       "    </tr>\n",
       "    <tr>\n",
       "      <th>Defense</th>\n",
       "      <td>65</td>\n",
       "    </tr>\n",
       "    <tr>\n",
       "      <th>Sp. Atk</th>\n",
       "      <td>65</td>\n",
       "    </tr>\n",
       "    <tr>\n",
       "      <th>Sp. Def</th>\n",
       "      <td>115</td>\n",
       "    </tr>\n",
       "    <tr>\n",
       "      <th>Speed</th>\n",
       "      <td>80</td>\n",
       "    </tr>\n",
       "    <tr>\n",
       "      <th>Legendary</th>\n",
       "      <td>0</td>\n",
       "    </tr>\n",
       "    <tr>\n",
       "      <th>Type 2_Bug</th>\n",
       "      <td>0</td>\n",
       "    </tr>\n",
       "    <tr>\n",
       "      <th>Type 2_Dark</th>\n",
       "      <td>0</td>\n",
       "    </tr>\n",
       "    <tr>\n",
       "      <th>Type 2_Dragon</th>\n",
       "      <td>0</td>\n",
       "    </tr>\n",
       "    <tr>\n",
       "      <th>Type 2_Electric</th>\n",
       "      <td>0</td>\n",
       "    </tr>\n",
       "    <tr>\n",
       "      <th>Type 2_Fairy</th>\n",
       "      <td>0</td>\n",
       "    </tr>\n",
       "    <tr>\n",
       "      <th>Type 2_Fighting</th>\n",
       "      <td>1</td>\n",
       "    </tr>\n",
       "    <tr>\n",
       "      <th>Type 2_Fire</th>\n",
       "      <td>0</td>\n",
       "    </tr>\n",
       "    <tr>\n",
       "      <th>Type 2_Flying</th>\n",
       "      <td>0</td>\n",
       "    </tr>\n",
       "    <tr>\n",
       "      <th>Type 2_Ghost</th>\n",
       "      <td>0</td>\n",
       "    </tr>\n",
       "    <tr>\n",
       "      <th>Type 2_Grass</th>\n",
       "      <td>0</td>\n",
       "    </tr>\n",
       "    <tr>\n",
       "      <th>Type 2_Ground</th>\n",
       "      <td>0</td>\n",
       "    </tr>\n",
       "    <tr>\n",
       "      <th>Type 2_Ice</th>\n",
       "      <td>0</td>\n",
       "    </tr>\n",
       "    <tr>\n",
       "      <th>Type 2_Normal</th>\n",
       "      <td>0</td>\n",
       "    </tr>\n",
       "    <tr>\n",
       "      <th>Type 2_Poison</th>\n",
       "      <td>0</td>\n",
       "    </tr>\n",
       "    <tr>\n",
       "      <th>Type 2_Psychic</th>\n",
       "      <td>0</td>\n",
       "    </tr>\n",
       "    <tr>\n",
       "      <th>Type 2_Rock</th>\n",
       "      <td>0</td>\n",
       "    </tr>\n",
       "    <tr>\n",
       "      <th>Type 2_Steel</th>\n",
       "      <td>0</td>\n",
       "    </tr>\n",
       "    <tr>\n",
       "      <th>Type 2_Water</th>\n",
       "      <td>0</td>\n",
       "    </tr>\n",
       "    <tr>\n",
       "      <th>Type 2_missing</th>\n",
       "      <td>0</td>\n",
       "    </tr>\n",
       "    <tr>\n",
       "      <th>Generation_1</th>\n",
       "      <td>0</td>\n",
       "    </tr>\n",
       "    <tr>\n",
       "      <th>Generation_2</th>\n",
       "      <td>0</td>\n",
       "    </tr>\n",
       "    <tr>\n",
       "      <th>Generation_3</th>\n",
       "      <td>0</td>\n",
       "    </tr>\n",
       "    <tr>\n",
       "      <th>Generation_4</th>\n",
       "      <td>1</td>\n",
       "    </tr>\n",
       "    <tr>\n",
       "      <th>Generation_5</th>\n",
       "      <td>0</td>\n",
       "    </tr>\n",
       "    <tr>\n",
       "      <th>Generation_6</th>\n",
       "      <td>0</td>\n",
       "    </tr>\n",
       "  </tbody>\n",
       "</table>\n",
       "</div>"
      ],
      "text/plain": [
       "                 526\n",
       "encoded_type_1    14\n",
       "Total            518\n",
       "HP                68\n",
       "Attack           125\n",
       "Defense           65\n",
       "Sp. Atk           65\n",
       "Sp. Def          115\n",
       "Speed             80\n",
       "Legendary          0\n",
       "Type 2_Bug         0\n",
       "Type 2_Dark        0\n",
       "Type 2_Dragon      0\n",
       "Type 2_Electric    0\n",
       "Type 2_Fairy       0\n",
       "Type 2_Fighting    1\n",
       "Type 2_Fire        0\n",
       "Type 2_Flying      0\n",
       "Type 2_Ghost       0\n",
       "Type 2_Grass       0\n",
       "Type 2_Ground      0\n",
       "Type 2_Ice         0\n",
       "Type 2_Normal      0\n",
       "Type 2_Poison      0\n",
       "Type 2_Psychic     0\n",
       "Type 2_Rock        0\n",
       "Type 2_Steel       0\n",
       "Type 2_Water       0\n",
       "Type 2_missing     0\n",
       "Generation_1       0\n",
       "Generation_2       0\n",
       "Generation_3       0\n",
       "Generation_4       1\n",
       "Generation_5       0\n",
       "Generation_6       0"
      ]
     },
     "execution_count": 21,
     "metadata": {},
     "output_type": "execute_result"
    }
   ],
   "source": [
    "train_df.head(1).T"
   ]
  },
  {
   "cell_type": "markdown",
   "metadata": {
    "_uuid": "676ac4546bea51af6d5a1720ef8b7ef39145a31d"
   },
   "source": [
    "# Evaluation metric"
   ]
  },
  {
   "cell_type": "markdown",
   "metadata": {
    "_uuid": "73961d91b1249adaf37131ecfb879e0f126389da"
   },
   "source": [
    "Alright, now that the features have been prepared and split, it is time to pick an evaluation metric. \n",
    "\n",
    "Since this an **nbalanced multi-class classification** problem, I will be using the [**F1 score**](https://en.wikipedia.org/wiki/F1_score) with **weighted** average: the F1 score is computed for each class then we take the weighted average using the true classes count.\n",
    "\n",
    "Check the sklearn documentation for more details [here](http://scikit-learn.org/stable/modules/generated/sklearn.metrics.f1_score.html). In what follows, I have provied two examples of usage of the `f1_score`(unblanaced and balanced classes). "
   ]
  },
  {
   "cell_type": "code",
   "execution_count": 22,
   "metadata": {
    "_uuid": "3033e21098b74dc0574da218ad5295fadba786aa",
    "scrolled": true
   },
   "outputs": [
    {
     "name": "stdout",
     "output_type": "stream",
     "text": [
      "Unbalanced: \n",
      "Weighted F1 score: 0.8174603174603173\n",
      "Micro F1 score: 0.8333333333333334\n",
      "Macro F1 score: 0.8412698412698413\n",
      "--------------------------------\n",
      "Balanaced: \n",
      "Weighted F1 score: 1.0\n",
      "Micro F1 score: 1.0\n",
      "Macro F1 score: 1.0\n"
     ]
    }
   ],
   "source": [
    "# The three variations of the F1 score for unbalanced classes are different for unblanaced classes\n",
    "\n",
    "true_classes = [\"a\", \"b\", \"c\", \"a\", \"c\", \"c\"]\n",
    "predicted_classes = [\"a\", \"b\", \"c\", \"c\", \"c\", \"c\"]\n",
    "\n",
    "print(\"Unbalanced: \")\n",
    "print(\"Weighted F1 score:\", f1_score(true_classes, predicted_classes, average=\"weighted\"))\n",
    "print(\"Micro F1 score:\", f1_score(true_classes, predicted_classes, average=\"micro\"))\n",
    "print(\"Macro F1 score:\", f1_score(true_classes, predicted_classes, average=\"macro\"))\n",
    "\n",
    "# The three variations of the F1 score for balanced classes are the same\n",
    "\n",
    "true_classes = [\"a\", \"b\", \"c\", \"a\", \"b\", \"c\"]\n",
    "predicted_classes = [\"a\", \"b\", \"c\", \"a\", \"b\", \"c\"]\n",
    "print(32 * \"-\")\n",
    "\n",
    "print(\"Balanaced: \")\n",
    "print(\"Weighted F1 score:\", f1_score(true_classes, predicted_classes, average=\"weighted\"))\n",
    "print(\"Micro F1 score:\", f1_score(true_classes, predicted_classes, average=\"micro\"))\n",
    "print(\"Macro F1 score:\", f1_score(true_classes, predicted_classes, average=\"macro\"))"
   ]
  },
  {
   "cell_type": "markdown",
   "metadata": {
    "_uuid": "bcc84ce1a7e08c053705d911bac47fa15b505bee"
   },
   "source": [
    "# Baseline model"
   ]
  },
  {
   "cell_type": "markdown",
   "metadata": {
    "_uuid": "f3817262de6d9f901828150c54eafa65269b5746"
   },
   "source": [
    "As with any ML problem, one usually starts by establishing a baseline, i.e. a score/error that one aims at improving. \n",
    "Why is that important? Well, without a baseline, it is hard to tell if one is making progress or not. Moreover, some problems are much easier than others: a very high accuracy might look impressive\n",
    "but is less impressive one compared to a high accuracy obtained with a very simple model. \n",
    "\n",
    "As a baseline, let's use a linear regression model.\n"
   ]
  },
  {
   "cell_type": "code",
   "execution_count": 23,
   "metadata": {
    "_uuid": "e7ab6572925b79ef1329621bf118d95c9b206f4b",
    "scrolled": true
   },
   "outputs": [],
   "source": [
    "train_features_df = train_df.drop(ENCODED_TARGET_COL, axis=1)\n",
    "train_target_s = train_df[ENCODED_TARGET_COL]"
   ]
  },
  {
   "cell_type": "code",
   "execution_count": 24,
   "metadata": {
    "_uuid": "21bb266298cea18b17425736d93e3061c39d7bee"
   },
   "outputs": [],
   "source": [
    "def improvement_in_percent(model_score, baseline_score):\n",
    "    return (100 * (model_score - baseline_score)  / baseline_score).round(3)"
   ]
  },
  {
   "cell_type": "code",
   "execution_count": 25,
   "metadata": {
    "_uuid": "ec0fa69042d0fa92d39c84f1ddd0884ef8092753",
    "scrolled": true
   },
   "outputs": [
    {
     "name": "stdout",
     "output_type": "stream",
     "text": [
      "Logistic regression mean and std scores are: (0.17909271515519115, 0.02517962720790275)\n"
     ]
    },
    {
     "data": {
      "text/html": [
       "<style>#sk-container-id-1 {color: black;background-color: white;}#sk-container-id-1 pre{padding: 0;}#sk-container-id-1 div.sk-toggleable {background-color: white;}#sk-container-id-1 label.sk-toggleable__label {cursor: pointer;display: block;width: 100%;margin-bottom: 0;padding: 0.3em;box-sizing: border-box;text-align: center;}#sk-container-id-1 label.sk-toggleable__label-arrow:before {content: \"▸\";float: left;margin-right: 0.25em;color: #696969;}#sk-container-id-1 label.sk-toggleable__label-arrow:hover:before {color: black;}#sk-container-id-1 div.sk-estimator:hover label.sk-toggleable__label-arrow:before {color: black;}#sk-container-id-1 div.sk-toggleable__content {max-height: 0;max-width: 0;overflow: hidden;text-align: left;background-color: #f0f8ff;}#sk-container-id-1 div.sk-toggleable__content pre {margin: 0.2em;color: black;border-radius: 0.25em;background-color: #f0f8ff;}#sk-container-id-1 input.sk-toggleable__control:checked~div.sk-toggleable__content {max-height: 200px;max-width: 100%;overflow: auto;}#sk-container-id-1 input.sk-toggleable__control:checked~label.sk-toggleable__label-arrow:before {content: \"▾\";}#sk-container-id-1 div.sk-estimator input.sk-toggleable__control:checked~label.sk-toggleable__label {background-color: #d4ebff;}#sk-container-id-1 div.sk-label input.sk-toggleable__control:checked~label.sk-toggleable__label {background-color: #d4ebff;}#sk-container-id-1 input.sk-hidden--visually {border: 0;clip: rect(1px 1px 1px 1px);clip: rect(1px, 1px, 1px, 1px);height: 1px;margin: -1px;overflow: hidden;padding: 0;position: absolute;width: 1px;}#sk-container-id-1 div.sk-estimator {font-family: monospace;background-color: #f0f8ff;border: 1px dotted black;border-radius: 0.25em;box-sizing: border-box;margin-bottom: 0.5em;}#sk-container-id-1 div.sk-estimator:hover {background-color: #d4ebff;}#sk-container-id-1 div.sk-parallel-item::after {content: \"\";width: 100%;border-bottom: 1px solid gray;flex-grow: 1;}#sk-container-id-1 div.sk-label:hover label.sk-toggleable__label {background-color: #d4ebff;}#sk-container-id-1 div.sk-serial::before {content: \"\";position: absolute;border-left: 1px solid gray;box-sizing: border-box;top: 0;bottom: 0;left: 50%;z-index: 0;}#sk-container-id-1 div.sk-serial {display: flex;flex-direction: column;align-items: center;background-color: white;padding-right: 0.2em;padding-left: 0.2em;position: relative;}#sk-container-id-1 div.sk-item {position: relative;z-index: 1;}#sk-container-id-1 div.sk-parallel {display: flex;align-items: stretch;justify-content: center;background-color: white;position: relative;}#sk-container-id-1 div.sk-item::before, #sk-container-id-1 div.sk-parallel-item::before {content: \"\";position: absolute;border-left: 1px solid gray;box-sizing: border-box;top: 0;bottom: 0;left: 50%;z-index: -1;}#sk-container-id-1 div.sk-parallel-item {display: flex;flex-direction: column;z-index: 1;position: relative;background-color: white;}#sk-container-id-1 div.sk-parallel-item:first-child::after {align-self: flex-end;width: 50%;}#sk-container-id-1 div.sk-parallel-item:last-child::after {align-self: flex-start;width: 50%;}#sk-container-id-1 div.sk-parallel-item:only-child::after {width: 0;}#sk-container-id-1 div.sk-dashed-wrapped {border: 1px dashed gray;margin: 0 0.4em 0.5em 0.4em;box-sizing: border-box;padding-bottom: 0.4em;background-color: white;}#sk-container-id-1 div.sk-label label {font-family: monospace;font-weight: bold;display: inline-block;line-height: 1.2em;}#sk-container-id-1 div.sk-label-container {text-align: center;}#sk-container-id-1 div.sk-container {/* jupyter's `normalize.less` sets `[hidden] { display: none; }` but bootstrap.min.css set `[hidden] { display: none !important; }` so we also need the `!important` here to be able to override the default hidden behavior on the sphinx rendered scikit-learn.org. See: https://github.com/scikit-learn/scikit-learn/issues/21755 */display: inline-block !important;position: relative;}#sk-container-id-1 div.sk-text-repr-fallback {display: none;}</style><div id=\"sk-container-id-1\" class=\"sk-top-container\"><div class=\"sk-text-repr-fallback\"><pre>LogisticRegression(random_state=31415)</pre><b>In a Jupyter environment, please rerun this cell to show the HTML representation or trust the notebook. <br />On GitHub, the HTML representation is unable to render, please try loading this page with nbviewer.org.</b></div><div class=\"sk-container\" hidden><div class=\"sk-item\"><div class=\"sk-estimator sk-toggleable\"><input class=\"sk-toggleable__control sk-hidden--visually\" id=\"sk-estimator-id-1\" type=\"checkbox\" checked><label for=\"sk-estimator-id-1\" class=\"sk-toggleable__label sk-toggleable__label-arrow\">LogisticRegression</label><div class=\"sk-toggleable__content\"><pre>LogisticRegression(random_state=31415)</pre></div></div></div></div></div>"
      ],
      "text/plain": [
       "LogisticRegression(random_state=31415)"
      ]
     },
     "execution_count": 25,
     "metadata": {},
     "output_type": "execute_result"
    }
   ],
   "source": [
    "lr = LogisticRegression(random_state=SEED)\n",
    "lr_scores = cross_val_score(lr, X=train_features_df, y=train_target_s, cv=5, scoring=\"f1_weighted\")\n",
    "print(\"Logistic regression mean and std scores are: ({}, {})\".format(lr_scores.mean(), lr_scores.std()))\n",
    "lr.fit(train_features_df, train_target_s)"
   ]
  },
  {
   "cell_type": "markdown",
   "metadata": {
    "_uuid": "25acae48963a893d7d8aea927cc951dba7dfdedc"
   },
   "source": [
    "# Simple XGBoost"
   ]
  },
  {
   "cell_type": "markdown",
   "metadata": {
    "_uuid": "c3572879b5172e250ca84e7334b940c5cc9775b8"
   },
   "source": [
    "Now that a baseline score has been found, let's try to improve it. "
   ]
  },
  {
   "cell_type": "code",
   "execution_count": 26,
   "metadata": {
    "_uuid": "0ad3ce271714829ccaf5e56717f1e791cbac46d4",
    "scrolled": true
   },
   "outputs": [
    {
     "data": {
      "text/plain": [
       "'Simple XGBoost classification mean and std scores are: (0.242854518683232, 0.028714908121174096)'"
      ]
     },
     "execution_count": 26,
     "metadata": {},
     "output_type": "execute_result"
    }
   ],
   "source": [
    "xgb_clf = XGBClassifier(random_state=SEED)\n",
    "xgb_clf_scores = cross_val_score(xgb_clf, X=train_features_df, y=train_target_s, cv=5, scoring=\"f1_weighted\")\n",
    "\"Simple XGBoost classification mean and std scores are: ({}, {})\".format(xgb_clf_scores.mean(), xgb_clf_scores.std())"
   ]
  },
  {
   "cell_type": "markdown",
   "metadata": {
    "_uuid": "f31c30145b2df1ae267770306c8664a68211d9bd"
   },
   "source": [
    "A \"simple\" (no hyperparameters tuning) XGBoost classifier does better than the baseline. "
   ]
  },
  {
   "cell_type": "code",
   "execution_count": 27,
   "metadata": {
    "_uuid": "d8eda4e37f5cc43dc3d6973097cc6e48fb00fb4f",
    "scrolled": true
   },
   "outputs": [
    {
     "data": {
      "text/plain": [
       "'This is a 35.603 % improvement'"
      ]
     },
     "execution_count": 27,
     "metadata": {},
     "output_type": "execute_result"
    }
   ],
   "source": [
    "\"This is a {} % improvement\".format(improvement_in_percent(xgb_clf_scores.mean(), lr_scores.mean()))"
   ]
  },
  {
   "cell_type": "markdown",
   "metadata": {
    "_uuid": "64399b6a932f1224866d219d4bfe61704ec1fc76"
   },
   "source": [
    "Could we do better?"
   ]
  },
  {
   "cell_type": "markdown",
   "metadata": {
    "_uuid": "039e795d90cfaabda73155e285c319604bf9a194"
   },
   "source": [
    "Let's try to vary the hyperparamters for the XGBoost classifier and see what we get."
   ]
  },
  {
   "cell_type": "code",
   "execution_count": 28,
   "metadata": {
    "_uuid": "19dac67f0b45c4dfc7d5a5cc9db854dc6aae1cb3"
   },
   "outputs": [
    {
     "name": "stdout",
     "output_type": "stream",
     "text": [
      "Alternative XGBoost classification mean and std scores are: (0.2340842609055321, 0.04125895710346093)\n",
      "This is a 30.706 % improvement\n"
     ]
    }
   ],
   "source": [
    "# More trees\n",
    "clf = XGBClassifier(random_state=SEED, n_estimators=1000)\n",
    "clf_scores = cross_val_score(clf, X=train_features_df, y=train_target_s, cv=5, scoring=\"f1_weighted\")\n",
    "print(\"Alternative XGBoost classification mean and std scores are: ({}, {})\".format(clf_scores.mean(), clf_scores.std()))\n",
    "print(\"This is a {} % improvement\".format(improvement_in_percent(clf_scores.mean(), lr_scores.mean())))"
   ]
  },
  {
   "cell_type": "code",
   "execution_count": 29,
   "metadata": {
    "_uuid": "5e37e3a4095c3e2e05f34e26c5c6722c812c6029",
    "scrolled": true
   },
   "outputs": [
    {
     "name": "stdout",
     "output_type": "stream",
     "text": [
      "Alternative XGBoost classification mean and std scores are: (0.2486615914791838, 0.03695407358332735)\n",
      "This is a 38.845 % improvement\n"
     ]
    }
   ],
   "source": [
    "# Smaller learning rate\n",
    "clf = XGBClassifier(random_state=SEED, learning_rate=0.01)\n",
    "clf_scores = cross_val_score(clf, X=train_features_df, y=train_target_s, cv=5, scoring=\"f1_weighted\")\n",
    "print(\"Alternative XGBoost classification mean and std scores are: ({}, {})\".format(clf_scores.mean(), clf_scores.std()))\n",
    "print(\"This is a {} % improvement\".format(improvement_in_percent(clf_scores.mean(), lr_scores.mean())))"
   ]
  },
  {
   "cell_type": "code",
   "execution_count": 30,
   "metadata": {
    "_uuid": "7205b04c04a1cf8fd267cfc530df374957b24c8a",
    "scrolled": false
   },
   "outputs": [],
   "source": [
    "class HPOptimizer(object):\n",
    "\n",
    "    def __init__(self):\n",
    "        # A progress bar to monitor the hyperopt optimization process\n",
    "        self.pbar = tqdm(total=MAX_EVALS, desc=\"Hyperopt\")\n",
    "        self.trials = Trials()\n",
    "\n",
    "    def objective(self, hyperparameters):\n",
    "        hyperparameters = {\n",
    "            \"max_delta_step\": hyperparameters[\"max_delta_step\"],\n",
    "            \"reg_alpha\": '{:.3f}'.format(hyperparameters[\"reg_alpha\"]), \n",
    "            \"reg_lambda\": '{:.3f}'.format(hyperparameters[\"reg_lambda\"]), \n",
    "            \"n_estimators\": int(hyperparameters[\"n_estimators\"]), \n",
    "            \"max_depth\": int(hyperparameters[\"max_depth\"]),\n",
    "            \"learning_rate\": '{:.3f}'.format(hyperparameters[\"learning_rate\"]), \n",
    "            \"colsample_bytree\": '{:.3f}'.format(hyperparameters['colsample_bytree']),\n",
    "            \"gamma\": \"{:.3f}\".format(hyperparameters['gamma']),\n",
    "        }\n",
    "        print(\"The current hyperparamters are: {}\".format(hyperparameters))\n",
    "\n",
    "        clf = XGBClassifier(\n",
    "            n_jobs=4,\n",
    "            **hyperparameters\n",
    "        )\n",
    "\n",
    "        scores = cross_val_score(clf, X=train_features_df, y=train_target_s, cv=5, \n",
    "                                 scoring=\"f1_weighted\")\n",
    "        print(\"Mean and std CV scores are: ({}, {})\".format(scores.mean(), scores.std()))\n",
    "        # Update the progress bar after each iteration\n",
    "        self.pbar.update()\n",
    "        # Since we are minimizing the objective => return -1 * mean(scores) (this is a loss)\n",
    "        return -scores.mean()\n",
    "\n",
    "    def run(self):\n",
    "        if RUN_HP_OPTIMIZATION:\n",
    "            optimal_hp = fmin(fn=objective,\n",
    "                              space=HP_SPACE,\n",
    "                              algo=tpe.suggest,\n",
    "                              trials= trials,\n",
    "                              max_evals=MAX_EVALS)\n",
    "        else:\n",
    "            optimal_hp = OPTIMAL_HP\n",
    "        self.optimal_hp = optimal_hp"
   ]
  },
  {
   "cell_type": "code",
   "execution_count": 31,
   "metadata": {
    "_uuid": "4053be8e3414c2397701c615cca710571c8f0f61"
   },
   "outputs": [
    {
     "name": "stderr",
     "output_type": "stream",
     "text": [
      "\r",
      "Hyperopt:   0%|          | 0/200 [00:00<?, ?it/s]"
     ]
    },
    {
     "name": "stdout",
     "output_type": "stream",
     "text": [
      "The optimal hyperparamters are: {'colsample_bytree': 0.7316836664311229, 'gamma': 0.04744535212276833, 'learning_rate': 0.02478735341127185, 'max_depth': 5.0, 'n_estimators': 349.0, 'reg_alpha': 0.03216806358838591, 'reg_lambda': 0.019055394071559602}\n"
     ]
    }
   ],
   "source": [
    "hp_optimizer = HPOptimizer()\n",
    "hp_optimizer.run()\n",
    "optimal_hp = hp_optimizer.optimal_hp\n",
    "print(\"The optimal hyperparamters are: {}\".format(optimal_hp))"
   ]
  },
  {
   "cell_type": "markdown",
   "metadata": {
    "_uuid": "902b6f829937a70422982692df7d3ac4a238be46"
   },
   "source": [
    "Let's explore the saved trials (these are handy to store hyperopt runs)."
   ]
  },
  {
   "cell_type": "code",
   "execution_count": 32,
   "metadata": {
    "_uuid": "62e8a51186a145236239545adca06df9293c9803"
   },
   "outputs": [],
   "source": [
    "if RUN_HP_OPTIMIZATION:\n",
    "    hyperaramters_df = pd.DataFrame(trials.idxs_vals[1])\n",
    "    losses_df = pd.DataFrame(trials.results)\n",
    "    hyperopt_trials_df = pd.concat([losses_df, hyperaramters_df], axis=1)"
   ]
  },
  {
   "cell_type": "code",
   "execution_count": 33,
   "metadata": {
    "_uuid": "eaabfa52140208b7166da0d398ac8ace908e76f0",
    "scrolled": false
   },
   "outputs": [],
   "source": [
    "if RUN_HP_OPTIMIZATION:\n",
    "    # Check that the argmin of the hyperopt_trials_df DataFrame is the same as the optimal_hp \n",
    "    min_loss_index = losses_df['loss'].argmin()\n",
    "    assert (hyperaramters_df.loc[min_loss_index, :].to_dict() == optimal_hp)"
   ]
  },
  {
   "cell_type": "code",
   "execution_count": 34,
   "metadata": {
    "_uuid": "1b52bb58b2a4021c5a647c0614373b189ee16b65"
   },
   "outputs": [],
   "source": [
    "def hp_vs_loss_scatterplot(hyperparameter):\n",
    "\n",
    "    fig, ax = plt.subplots(1, 1, figsize=(12, 8))\n",
    "    hyperopt_trials_df.plot(x=hyperparameter, y='loss', kind='scatter', ax=ax)\n",
    "    best_coordinates = hyperopt_trials_df.loc[min_loss_index, [hyperparameter, \"loss\"]].values\n",
    "    ax.annotate(\"Best {}: {}\".format(hyperparameter, round(best_coordinates[0], 3)), \n",
    "                xy=best_coordinates, \n",
    "                color=\"red\")"
   ]
  },
  {
   "cell_type": "code",
   "execution_count": 35,
   "metadata": {
    "_uuid": "6bb0fc91b05905e1f1612a5a49772ccd8236a28b"
   },
   "outputs": [],
   "source": [
    "if RUN_HP_OPTIMIZATION:\n",
    "    # Remove the \"max_delta_step\" since it is fixed for now\n",
    "    HP_SPACE.pop(\"max_delta_step\")\n",
    "    for hyperparmeter in HP_SPACE.keys():\n",
    "        hp_vs_loss_scatterplot(hyperparmeter)"
   ]
  },
  {
   "cell_type": "markdown",
   "metadata": {
    "_uuid": "ea2073274305a8681b7802fe0857983d8064266c"
   },
   "source": [
    "Let's train our best XGBoost classifier (using the optimal hyperparamters) on the train dataet then evaluate it on the test dataset."
   ]
  },
  {
   "cell_type": "code",
   "execution_count": 36,
   "metadata": {
    "_uuid": "67d86f91492a73bacbb14b1c947edf98c71bcb74",
    "scrolled": true
   },
   "outputs": [
    {
     "data": {
      "text/html": [
       "<style>#sk-container-id-2 {color: black;background-color: white;}#sk-container-id-2 pre{padding: 0;}#sk-container-id-2 div.sk-toggleable {background-color: white;}#sk-container-id-2 label.sk-toggleable__label {cursor: pointer;display: block;width: 100%;margin-bottom: 0;padding: 0.3em;box-sizing: border-box;text-align: center;}#sk-container-id-2 label.sk-toggleable__label-arrow:before {content: \"▸\";float: left;margin-right: 0.25em;color: #696969;}#sk-container-id-2 label.sk-toggleable__label-arrow:hover:before {color: black;}#sk-container-id-2 div.sk-estimator:hover label.sk-toggleable__label-arrow:before {color: black;}#sk-container-id-2 div.sk-toggleable__content {max-height: 0;max-width: 0;overflow: hidden;text-align: left;background-color: #f0f8ff;}#sk-container-id-2 div.sk-toggleable__content pre {margin: 0.2em;color: black;border-radius: 0.25em;background-color: #f0f8ff;}#sk-container-id-2 input.sk-toggleable__control:checked~div.sk-toggleable__content {max-height: 200px;max-width: 100%;overflow: auto;}#sk-container-id-2 input.sk-toggleable__control:checked~label.sk-toggleable__label-arrow:before {content: \"▾\";}#sk-container-id-2 div.sk-estimator input.sk-toggleable__control:checked~label.sk-toggleable__label {background-color: #d4ebff;}#sk-container-id-2 div.sk-label input.sk-toggleable__control:checked~label.sk-toggleable__label {background-color: #d4ebff;}#sk-container-id-2 input.sk-hidden--visually {border: 0;clip: rect(1px 1px 1px 1px);clip: rect(1px, 1px, 1px, 1px);height: 1px;margin: -1px;overflow: hidden;padding: 0;position: absolute;width: 1px;}#sk-container-id-2 div.sk-estimator {font-family: monospace;background-color: #f0f8ff;border: 1px dotted black;border-radius: 0.25em;box-sizing: border-box;margin-bottom: 0.5em;}#sk-container-id-2 div.sk-estimator:hover {background-color: #d4ebff;}#sk-container-id-2 div.sk-parallel-item::after {content: \"\";width: 100%;border-bottom: 1px solid gray;flex-grow: 1;}#sk-container-id-2 div.sk-label:hover label.sk-toggleable__label {background-color: #d4ebff;}#sk-container-id-2 div.sk-serial::before {content: \"\";position: absolute;border-left: 1px solid gray;box-sizing: border-box;top: 0;bottom: 0;left: 50%;z-index: 0;}#sk-container-id-2 div.sk-serial {display: flex;flex-direction: column;align-items: center;background-color: white;padding-right: 0.2em;padding-left: 0.2em;position: relative;}#sk-container-id-2 div.sk-item {position: relative;z-index: 1;}#sk-container-id-2 div.sk-parallel {display: flex;align-items: stretch;justify-content: center;background-color: white;position: relative;}#sk-container-id-2 div.sk-item::before, #sk-container-id-2 div.sk-parallel-item::before {content: \"\";position: absolute;border-left: 1px solid gray;box-sizing: border-box;top: 0;bottom: 0;left: 50%;z-index: -1;}#sk-container-id-2 div.sk-parallel-item {display: flex;flex-direction: column;z-index: 1;position: relative;background-color: white;}#sk-container-id-2 div.sk-parallel-item:first-child::after {align-self: flex-end;width: 50%;}#sk-container-id-2 div.sk-parallel-item:last-child::after {align-self: flex-start;width: 50%;}#sk-container-id-2 div.sk-parallel-item:only-child::after {width: 0;}#sk-container-id-2 div.sk-dashed-wrapped {border: 1px dashed gray;margin: 0 0.4em 0.5em 0.4em;box-sizing: border-box;padding-bottom: 0.4em;background-color: white;}#sk-container-id-2 div.sk-label label {font-family: monospace;font-weight: bold;display: inline-block;line-height: 1.2em;}#sk-container-id-2 div.sk-label-container {text-align: center;}#sk-container-id-2 div.sk-container {/* jupyter's `normalize.less` sets `[hidden] { display: none; }` but bootstrap.min.css set `[hidden] { display: none !important; }` so we also need the `!important` here to be able to override the default hidden behavior on the sphinx rendered scikit-learn.org. See: https://github.com/scikit-learn/scikit-learn/issues/21755 */display: inline-block !important;position: relative;}#sk-container-id-2 div.sk-text-repr-fallback {display: none;}</style><div id=\"sk-container-id-2\" class=\"sk-top-container\"><div class=\"sk-text-repr-fallback\"><pre>XGBClassifier(base_score=0.5, booster=&#x27;gbtree&#x27;, callbacks=None,\n",
       "              colsample_bylevel=1, colsample_bynode=1, colsample_bytree=&#x27;0.732&#x27;,\n",
       "              early_stopping_rounds=None, enable_categorical=False,\n",
       "              eval_metric=None, feature_types=None, gamma=&#x27;0.047&#x27;, gpu_id=-1,\n",
       "              grow_policy=&#x27;depthwise&#x27;, importance_type=None,\n",
       "              interaction_constraints=&#x27;&#x27;, learning_rate=0.02478735341127185,\n",
       "              max_bin=256, max_cat_threshold=64, max_cat_to_onehot=4,\n",
       "              max_delta_step=0, max_depth=5, max_leaves=0, min_child_weight=1,\n",
       "              missing=nan, monotone_constraints=&#x27;()&#x27;, n_estimators=349,\n",
       "              n_jobs=0, num_parallel_tree=1, objective=&#x27;multi:softprob&#x27;,\n",
       "              predictor=&#x27;auto&#x27;, ...)</pre><b>In a Jupyter environment, please rerun this cell to show the HTML representation or trust the notebook. <br />On GitHub, the HTML representation is unable to render, please try loading this page with nbviewer.org.</b></div><div class=\"sk-container\" hidden><div class=\"sk-item\"><div class=\"sk-estimator sk-toggleable\"><input class=\"sk-toggleable__control sk-hidden--visually\" id=\"sk-estimator-id-2\" type=\"checkbox\" checked><label for=\"sk-estimator-id-2\" class=\"sk-toggleable__label sk-toggleable__label-arrow\">XGBClassifier</label><div class=\"sk-toggleable__content\"><pre>XGBClassifier(base_score=0.5, booster=&#x27;gbtree&#x27;, callbacks=None,\n",
       "              colsample_bylevel=1, colsample_bynode=1, colsample_bytree=&#x27;0.732&#x27;,\n",
       "              early_stopping_rounds=None, enable_categorical=False,\n",
       "              eval_metric=None, feature_types=None, gamma=&#x27;0.047&#x27;, gpu_id=-1,\n",
       "              grow_policy=&#x27;depthwise&#x27;, importance_type=None,\n",
       "              interaction_constraints=&#x27;&#x27;, learning_rate=0.02478735341127185,\n",
       "              max_bin=256, max_cat_threshold=64, max_cat_to_onehot=4,\n",
       "              max_delta_step=0, max_depth=5, max_leaves=0, min_child_weight=1,\n",
       "              missing=nan, monotone_constraints=&#x27;()&#x27;, n_estimators=349,\n",
       "              n_jobs=0, num_parallel_tree=1, objective=&#x27;multi:softprob&#x27;,\n",
       "              predictor=&#x27;auto&#x27;, ...)</pre></div></div></div></div></div>"
      ],
      "text/plain": [
       "XGBClassifier(base_score=0.5, booster='gbtree', callbacks=None,\n",
       "              colsample_bylevel=1, colsample_bynode=1, colsample_bytree='0.732',\n",
       "              early_stopping_rounds=None, enable_categorical=False,\n",
       "              eval_metric=None, feature_types=None, gamma='0.047', gpu_id=-1,\n",
       "              grow_policy='depthwise', importance_type=None,\n",
       "              interaction_constraints='', learning_rate=0.02478735341127185,\n",
       "              max_bin=256, max_cat_threshold=64, max_cat_to_onehot=4,\n",
       "              max_delta_step=0, max_depth=5, max_leaves=0, min_child_weight=1,\n",
       "              missing=nan, monotone_constraints='()', n_estimators=349,\n",
       "              n_jobs=0, num_parallel_tree=1, objective='multi:softprob',\n",
       "              predictor='auto', ...)"
      ]
     },
     "execution_count": 36,
     "metadata": {},
     "output_type": "execute_result"
    }
   ],
   "source": [
    "parsed_optimal_hp = {\n",
    "    \"n_estimators\": int(optimal_hp[\"n_estimators\"]), \n",
    "    \"max_depth\": int(optimal_hp[\"max_depth\"]),\n",
    "    \"learning_rate\": optimal_hp[\"learning_rate\"], \n",
    "    \"colsample_bytree\": '{:.3f}'.format(optimal_hp['colsample_bytree']),\n",
    "    \"gamma\": \"{:.3f}\".format(optimal_hp['gamma']),\n",
    "}\n",
    "\n",
    "best_xgb_clf =  XGBClassifier(random_state=SEED, **parsed_optimal_hp)\n",
    "best_xgb_clf.fit(train_features_df, train_target_s)"
   ]
  },
  {
   "cell_type": "markdown",
   "metadata": {
    "_uuid": "754576dc9d9b89105b6c063e1cc7818aed55e331"
   },
   "source": [
    "# Random Forests"
   ]
  },
  {
   "cell_type": "markdown",
   "metadata": {
    "_uuid": "be0cc98081182f72a9cf54d1f91348f1aa45e01d"
   },
   "source": [
    "Let's try other models starting with a random forests classifier"
   ]
  },
  {
   "cell_type": "code",
   "execution_count": 37,
   "metadata": {
    "_uuid": "201a9e508665b8e0047caed002364120d3f58668",
    "scrolled": false
   },
   "outputs": [
    {
     "name": "stdout",
     "output_type": "stream",
     "text": [
      "Simple random forests classification mean and std scores are: (0.26614013332069697, 0.022754247384498154)\n",
      "This is a 48.605 % improvement\n"
     ]
    }
   ],
   "source": [
    "rf_clf = RandomForestClassifier(random_state=SEED)\n",
    "rf_clf_scores = cross_val_score(rf_clf, X=train_features_df, y=train_target_s, cv=5, scoring=\"f1_weighted\")\n",
    "print(\"Simple random forests classification mean and std scores are: ({}, {})\".format(rf_clf_scores.mean(), rf_clf_scores.std()))\n",
    "print(\"This is a {} % improvement\".format(improvement_in_percent(rf_clf_scores.mean(), lr_scores.mean())))"
   ]
  }
 ],
 "metadata": {
  "kernelspec": {
   "display_name": "Python 3 (ipykernel)",
   "language": "python",
   "name": "python3"
  },
  "language_info": {
   "codemirror_mode": {
    "name": "ipython",
    "version": 3
   },
   "file_extension": ".py",
   "mimetype": "text/x-python",
   "name": "python",
   "nbconvert_exporter": "python",
   "pygments_lexer": "ipython3",
   "version": "3.9.12"
  }
 },
 "nbformat": 4,
 "nbformat_minor": 1
}
